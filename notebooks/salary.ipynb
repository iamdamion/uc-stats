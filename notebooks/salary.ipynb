{
 "cells": [
  {
   "cell_type": "code",
   "execution_count": 31,
   "metadata": {},
   "outputs": [],
   "source": [
    "import pandas as pd\n",
    "import seaborn as sns\n",
    "import matplotlib.pyplot as plt"
   ]
  },
  {
   "cell_type": "code",
   "execution_count": 36,
   "metadata": {},
   "outputs": [],
   "source": [
    "df = pd.read_csv('../data/raw/salary/bioengineering-salary.csv').sort_values(\"per-month-adjusted\", ascending=False)"
   ]
  },
  {
   "cell_type": "code",
   "execution_count": 37,
   "metadata": {},
   "outputs": [
    {
     "data": {
      "text/html": [
       "<div>\n",
       "<style scoped>\n",
       "    .dataframe tbody tr th:only-of-type {\n",
       "        vertical-align: middle;\n",
       "    }\n",
       "\n",
       "    .dataframe tbody tr th {\n",
       "        vertical-align: top;\n",
       "    }\n",
       "\n",
       "    .dataframe thead th {\n",
       "        text-align: right;\n",
       "    }\n",
       "</style>\n",
       "<table border=\"1\" class=\"dataframe\">\n",
       "  <thead>\n",
       "    <tr style=\"text-align: right;\">\n",
       "      <th></th>\n",
       "      <th>university</th>\n",
       "      <th>shortname</th>\n",
       "      <th>location</th>\n",
       "      <th>stipend</th>\n",
       "      <th>adjusted</th>\n",
       "      <th>per-month</th>\n",
       "      <th>per-month-adjusted</th>\n",
       "      <th>difference</th>\n",
       "    </tr>\n",
       "  </thead>\n",
       "  <tbody>\n",
       "    <tr>\n",
       "      <th>1</th>\n",
       "      <td>Duke University</td>\n",
       "      <td>Duke</td>\n",
       "      <td>durham, nc</td>\n",
       "      <td>38600</td>\n",
       "      <td>58225</td>\n",
       "      <td>3216.666667</td>\n",
       "      <td>4852.08</td>\n",
       "      <td>1635.42</td>\n",
       "    </tr>\n",
       "    <tr>\n",
       "      <th>5</th>\n",
       "      <td>University of Illinois (UIUC)</td>\n",
       "      <td>UIUC</td>\n",
       "      <td>urbana-champaign</td>\n",
       "      <td>31620</td>\n",
       "      <td>52082</td>\n",
       "      <td>2635.000000</td>\n",
       "      <td>4340.17</td>\n",
       "      <td>1705.17</td>\n",
       "    </tr>\n",
       "    <tr>\n",
       "      <th>4</th>\n",
       "      <td>University of Michigan (AA)</td>\n",
       "      <td>UMich</td>\n",
       "      <td>ann arbor</td>\n",
       "      <td>33750</td>\n",
       "      <td>51892</td>\n",
       "      <td>2812.500000</td>\n",
       "      <td>4324.33</td>\n",
       "      <td>1511.83</td>\n",
       "    </tr>\n",
       "    <tr>\n",
       "      <th>7</th>\n",
       "      <td>University of Florida</td>\n",
       "      <td>UFl</td>\n",
       "      <td>NaN</td>\n",
       "      <td>31000</td>\n",
       "      <td>49032</td>\n",
       "      <td>2583.333333</td>\n",
       "      <td>4086.00</td>\n",
       "      <td>1502.67</td>\n",
       "    </tr>\n",
       "    <tr>\n",
       "      <th>3</th>\n",
       "      <td>Georgia Tech</td>\n",
       "      <td>GTech</td>\n",
       "      <td>atlanta</td>\n",
       "      <td>35000</td>\n",
       "      <td>48319</td>\n",
       "      <td>2916.666667</td>\n",
       "      <td>4026.58</td>\n",
       "      <td>1109.92</td>\n",
       "    </tr>\n",
       "    <tr>\n",
       "      <th>2</th>\n",
       "      <td>University of Pittsburgh</td>\n",
       "      <td>UPitt</td>\n",
       "      <td>pittburgh</td>\n",
       "      <td>33000</td>\n",
       "      <td>46136</td>\n",
       "      <td>2750.000000</td>\n",
       "      <td>3844.67</td>\n",
       "      <td>1094.67</td>\n",
       "    </tr>\n",
       "    <tr>\n",
       "      <th>0</th>\n",
       "      <td>University of Virginia</td>\n",
       "      <td>UVA</td>\n",
       "      <td>charlottesville, va</td>\n",
       "      <td>32500</td>\n",
       "      <td>44355</td>\n",
       "      <td>2708.333333</td>\n",
       "      <td>3696.25</td>\n",
       "      <td>987.92</td>\n",
       "    </tr>\n",
       "    <tr>\n",
       "      <th>6</th>\n",
       "      <td>University at Buffalo (SUNY)</td>\n",
       "      <td>UBuff</td>\n",
       "      <td>NaN</td>\n",
       "      <td>29000</td>\n",
       "      <td>43243</td>\n",
       "      <td>2416.666667</td>\n",
       "      <td>3603.58</td>\n",
       "      <td>1186.92</td>\n",
       "    </tr>\n",
       "    <tr>\n",
       "      <th>8</th>\n",
       "      <td>UCSD</td>\n",
       "      <td>UCSD</td>\n",
       "      <td>NaN</td>\n",
       "      <td>36000</td>\n",
       "      <td>36000</td>\n",
       "      <td>3000.000000</td>\n",
       "      <td>3000.00</td>\n",
       "      <td>0.00</td>\n",
       "    </tr>\n",
       "  </tbody>\n",
       "</table>\n",
       "</div>"
      ],
      "text/plain": [
       "                      university shortname             location  stipend  \\\n",
       "1                Duke University      Duke           durham, nc    38600   \n",
       "5  University of Illinois (UIUC)      UIUC     urbana-champaign    31620   \n",
       "4    University of Michigan (AA)     UMich            ann arbor    33750   \n",
       "7          University of Florida       UFl                  NaN    31000   \n",
       "3                   Georgia Tech     GTech              atlanta    35000   \n",
       "2       University of Pittsburgh     UPitt            pittburgh    33000   \n",
       "0         University of Virginia       UVA  charlottesville, va    32500   \n",
       "6   University at Buffalo (SUNY)     UBuff                  NaN    29000   \n",
       "8                           UCSD      UCSD                  NaN    36000   \n",
       "\n",
       "   adjusted    per-month  per-month-adjusted  difference  \n",
       "1     58225  3216.666667             4852.08     1635.42  \n",
       "5     52082  2635.000000             4340.17     1705.17  \n",
       "4     51892  2812.500000             4324.33     1511.83  \n",
       "7     49032  2583.333333             4086.00     1502.67  \n",
       "3     48319  2916.666667             4026.58     1109.92  \n",
       "2     46136  2750.000000             3844.67     1094.67  \n",
       "0     44355  2708.333333             3696.25      987.92  \n",
       "6     43243  2416.666667             3603.58     1186.92  \n",
       "8     36000  3000.000000             3000.00        0.00  "
      ]
     },
     "execution_count": 37,
     "metadata": {},
     "output_type": "execute_result"
    }
   ],
   "source": [
    "df"
   ]
  },
  {
   "cell_type": "code",
   "execution_count": 68,
   "metadata": {},
   "outputs": [
    {
     "data": {
      "image/png": "[encoded data removed]",
      "text/plain": [
       "<Figure size 720x360 with 1 Axes>"
      ]
     },
     "metadata": {},
     "output_type": "display_data"
    }
   ],
   "source": [
    "sns.set_theme(style=\"whitegrid\")\n",
    "\n",
    "f = plt.figure(figsize=(10,5)) \n",
    "\n",
    "sns.set_color_codes(\"pastel\")\n",
    "sns.barplot(\n",
    "    data=df, \n",
    "    x=\"per-month-adjusted\", \n",
    "    y=\"shortname\", \n",
    "    color=\"b\",\n",
    "    label=\"Cost-of-living adjusted\"\n",
    "    )\n",
    "\n",
    "sns.set_color_codes(\"muted\")\n",
    "sns.barplot(\n",
    "    data=df, \n",
    "    x=\"per-month\", \n",
    "    y=\"shortname\", \n",
    "    color=\"b\",\n",
    "    )\n",
    "\n",
    "# Add a legend and informative axis label\n",
    "plt.legend(ncol=2, loc=\"lower right\", frameon=True)\n",
    "plt.title(\"Bioengineering Salary at Top US Public Universities\",\n",
    "          fontsize=20,\n",
    "          pad=20,\n",
    "          )\n",
    "plt.xlabel(\"Pre-tax salary (USD)\", fontsize=15)\n",
    "plt.ylabel(\"\")\n",
    "plt.yticks(fontsize=15)\n",
    "plt.xticks(fontsize=13)\n",
    "sns.despine(left=True, bottom=True)\n",
    "\n",
    "plt.show()"
   ]
  },
  {
   "cell_type": "code",
   "execution_count": 84,
   "metadata": {},
   "outputs": [
    {
     "data": {
      "text/plain": [
       "4096.7075"
      ]
     },
     "execution_count": 84,
     "metadata": {},
     "output_type": "execute_result"
    }
   ],
   "source": [
    "df[\"per-month-adjusted\"].iloc[:8].mean()"
   ]
  }
 ],
 "metadata": {
  "kernelspec": {
   "display_name": "Python 3.8.5 64-bit",
   "language": "python",
   "name": "python3"
  },
  "language_info": {
   "codemirror_mode": {
    "name": "ipython",
    "version": 3
   },
   "file_extension": ".py",
   "mimetype": "text/x-python",
   "name": "python",
   "nbconvert_exporter": "python",
   "pygments_lexer": "ipython3",
   "version": "3.8.5"
  },
  "orig_nbformat": 4,
  "vscode": {
   "interpreter": {
    "hash": "aee8b7b246df8f9039afb4144a1f6fd8d2ca17a180786b69acc140d282b71a49"
   }
  }
 },
 "nbformat": 4,
 "nbformat_minor": 2
}
